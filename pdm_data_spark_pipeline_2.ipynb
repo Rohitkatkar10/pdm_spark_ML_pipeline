{
 "cells": [
  {
   "cell_type": "code",
   "execution_count": 3,
   "metadata": {},
   "outputs": [
    {
     "data": {
      "text/plain": [
       "'C:\\\\spark-3.0.1-bin-hadoop2.7'"
      ]
     },
     "execution_count": 3,
     "metadata": {},
     "output_type": "execute_result"
    }
   ],
   "source": [
    "import findspark\n",
    "findspark.init()\n",
    "findspark.find()"
   ]
  },
  {
   "cell_type": "code",
   "execution_count": 4,
   "metadata": {},
   "outputs": [],
   "source": [
    "from pyspark.sql import SparkSession   #create a spark session to make DataFRame.\n",
    "spark = SparkSession.builder.appName('pdm_data_spark_pipeline1').getOrCreate()"
   ]
  },
  {
   "cell_type": "code",
   "execution_count": 5,
   "metadata": {},
   "outputs": [],
   "source": [
    "file_location = \"D:\\MTech_project\\Datasets\\pdm_miss.csv\"\n",
    "file_type = \"csv\"\n",
    "\n",
    "# CSV options\n",
    "infer_schema = \"true\"\n",
    "first_row_is_header = \"true\"\n",
    "delimiter = \",\"\n"
   ]
  },
  {
   "cell_type": "code",
   "execution_count": 6,
   "metadata": {},
   "outputs": [
    {
     "data": {
      "text/plain": [
       "DataFrame[UDI: int, Product ID: string, Type: string, Air temperature [K]: double, Process temperature [K]: double, Rotational speed [rpm]: int, Torque [Nm]: double, Tool wear [min]: int, Machine failure: int, TWF: int, HDF: int, PWF: int, OSF: int, RNF: int]"
      ]
     },
     "metadata": {},
     "output_type": "display_data"
    }
   ],
   "source": [
    "# The applied options are for CSV files. For other file types, these will be ignored.\n",
    "df = spark.read.format(file_type).option(\"inferSchema\", infer_schema).option(\"header\", first_row_is_header).option(\"sep\", delimiter) \\\n",
    "                                 .option('nanValue',' ').option('nullValue',' ').load(file_location)\n",
    "\n",
    "display(df)  #its like df.head() command.\n"
   ]
  },
  {
   "cell_type": "code",
   "execution_count": 7,
   "metadata": {},
   "outputs": [
    {
     "name": "stdout",
     "output_type": "stream",
     "text": [
      "root\n",
      " |-- UDI: integer (nullable = true)\n",
      " |-- Product ID: string (nullable = true)\n",
      " |-- Type: string (nullable = true)\n",
      " |-- Air temperature [K]: double (nullable = true)\n",
      " |-- Process temperature [K]: double (nullable = true)\n",
      " |-- Rotational speed [rpm]: integer (nullable = true)\n",
      " |-- Torque [Nm]: double (nullable = true)\n",
      " |-- Tool wear [min]: integer (nullable = true)\n",
      " |-- Machine failure: integer (nullable = true)\n",
      " |-- TWF: integer (nullable = true)\n",
      " |-- HDF: integer (nullable = true)\n",
      " |-- PWF: integer (nullable = true)\n",
      " |-- OSF: integer (nullable = true)\n",
      " |-- RNF: integer (nullable = true)\n",
      "\n"
     ]
    }
   ],
   "source": [
    "df.printSchema()\n",
    "#its like .info() function."
   ]
  },
  {
   "cell_type": "code",
   "execution_count": null,
   "metadata": {},
   "outputs": [],
   "source": [
    "#from pyspark.sql.types import StringType\n",
    "#df = df.withColumn(\"Machine failure\",df[\"Machine failure\"].cast(StringType()))\n",
    "#we can import 'DateType', 'IntegerType', etc. to change data type."
   ]
  },
  {
   "cell_type": "code",
   "execution_count": 8,
   "metadata": {},
   "outputs": [
    {
     "name": "stdout",
     "output_type": "stream",
     "text": [
      "root\n",
      " |-- UDI: integer (nullable = true)\n",
      " |-- Product ID: string (nullable = true)\n",
      " |-- Type: string (nullable = true)\n",
      " |-- Air temperature [K]: double (nullable = true)\n",
      " |-- Process temperature [K]: double (nullable = true)\n",
      " |-- Rotational speed [rpm]: integer (nullable = true)\n",
      " |-- Torque [Nm]: double (nullable = true)\n",
      " |-- Tool wear [min]: integer (nullable = true)\n",
      " |-- Machine failure: integer (nullable = true)\n",
      " |-- TWF: integer (nullable = true)\n",
      " |-- HDF: integer (nullable = true)\n",
      " |-- PWF: integer (nullable = true)\n",
      " |-- OSF: integer (nullable = true)\n",
      " |-- RNF: integer (nullable = true)\n",
      "\n"
     ]
    }
   ],
   "source": [
    "df.printSchema()\n",
    "#its like .info() function."
   ]
  },
  {
   "cell_type": "code",
   "execution_count": 9,
   "metadata": {},
   "outputs": [
    {
     "name": "stdout",
     "output_type": "stream",
     "text": [
      "+---+----------+----+-------------------+-----------------------+----------------------+-----------+---------------+---------------+---+---+---+---+---+\n",
      "|UDI|Product ID|Type|Air temperature [K]|Process temperature [K]|Rotational speed [rpm]|Torque [Nm]|Tool wear [min]|Machine failure|TWF|HDF|PWF|OSF|RNF|\n",
      "+---+----------+----+-------------------+-----------------------+----------------------+-----------+---------------+---------------+---+---+---+---+---+\n",
      "|  0|         0| 215|                264|                    287|                  1033|       1154|           1132|              0|  4|  1|  0|  1|  1|\n",
      "+---+----------+----+-------------------+-----------------------+----------------------+-----------+---------------+---------------+---+---+---+---+---+\n",
      "\n"
     ]
    }
   ],
   "source": [
    "from pyspark.sql.functions import isnan, when, count, col\n",
    "df.select([count(when(isnan(c) | col(c).isNull(), c)).alias(c) for c in df.columns]).show()\n",
    "#spark has lazy execution, need to give some action command to see the result. (like .show() in this case)\n",
    "# 11 samples are null in 2nd last column."
   ]
  },
  {
   "cell_type": "code",
   "execution_count": 10,
   "metadata": {},
   "outputs": [],
   "source": [
    "#convert spark DataFrame to Pandas DataFRame\n",
    "pd_df = df.toPandas()\n",
    "# we can convert spark df to pandas df if the data frame is not huge. As pandas will take all data into single node driver memory. (spark does it on distributed memory)."
   ]
  },
  {
   "cell_type": "code",
   "execution_count": 11,
   "metadata": {},
   "outputs": [
    {
     "data": {
      "image/png": "[encoded data removed]",
      "text/plain": [
       "<Figure size 432x288 with 1 Axes>"
      ]
     },
     "metadata": {
      "needs_background": "light"
     },
     "output_type": "display_data"
    }
   ],
   "source": [
    "import matplotlib.pyplot as plt\n",
    "plt.clf()\n",
    "plt.plot(pd_df['Machine failure'], pd_df['Rotational speed [rpm]'], '.')\n",
    "plt.xlabel('Machine failure')\n",
    "plt.ylabel('speed [rpm]')\n",
    "display()"
   ]
  },
  {
   "cell_type": "code",
   "execution_count": 12,
   "metadata": {},
   "outputs": [
    {
     "name": "stdout",
     "output_type": "stream",
     "text": [
      "+-------+------------------+----------+----+-------------------+-----------------------+----------------------+-----------------+------------------+-----------------+--------------------+--------------------+-------------------+-------------------+--------------------+\n",
      "|summary|               UDI|Product ID|Type|Air temperature [K]|Process temperature [K]|Rotational speed [rpm]|      Torque [Nm]|   Tool wear [min]|  Machine failure|                 TWF|                 HDF|                PWF|                OSF|                 RNF|\n",
      "+-------+------------------+----------+----+-------------------+-----------------------+----------------------+-----------------+------------------+-----------------+--------------------+--------------------+-------------------+-------------------+--------------------+\n",
      "|  count|             10000|     10000|9785|               9736|                   9713|                  8967|             8846|              8868|            10000|                9996|                9999|              10000|               9999|                9999|\n",
      "|   mean|            5000.5|      null|null|  300.0273007395219|      310.0021414598989|    1538.8703022192483|40.01415328962244|107.94440685611187|           0.0339|0.004601840736294518|0.011501150115011502|             0.0095| 0.0097009700970097|0.001900190019001...|\n",
      "| stddev|2886.8956799071675|      null|null| 2.0198130946151247|     1.5021838666413492|    179.86912614076903|9.989811814046403| 63.64268274647264|0.180980842650654| 0.06768398698111612| 0.10663025262950723|0.09700871645943422|0.09801949884839203|0.043551911470823705|\n",
      "|    min|                 1|    H29424|   H|              295.3|                  305.7|                  1168|              3.8|                 0|                0|                   0|                   0|                  0|                  0|                   0|\n",
      "|    max|             10000|    M24859|   M|              304.5|                  313.8|                  2886|             76.6|               253|                1|                   1|                   1|                  1|                  1|                   1|\n",
      "+-------+------------------+----------+----+-------------------+-----------------------+----------------------+-----------------+------------------+-----------------+--------------------+--------------------+-------------------+-------------------+--------------------+\n",
      "\n"
     ]
    }
   ],
   "source": [
    "df.describe().show()"
   ]
  },
  {
   "cell_type": "code",
   "execution_count": 13,
   "metadata": {},
   "outputs": [
    {
     "name": "stdout",
     "output_type": "stream",
     "text": [
      "+-------+-------------------+-----------------------+----------------------+-----------------+------------------+-----------------+\n",
      "|summary|Air temperature [K]|Process temperature [K]|Rotational speed [rpm]|      Torque [Nm]|   Tool wear [min]|  Machine failure|\n",
      "+-------+-------------------+-----------------------+----------------------+-----------------+------------------+-----------------+\n",
      "|  count|               9736|                   9713|                  8967|             8846|              8868|            10000|\n",
      "|   mean|  300.0273007395219|      310.0021414598989|    1538.8703022192483|40.01415328962244|107.94440685611187|           0.0339|\n",
      "| stddev| 2.0198130946151247|     1.5021838666413492|    179.86912614076903|9.989811814046403| 63.64268274647264|0.180980842650654|\n",
      "|    min|              295.3|                  305.7|                  1168|              3.8|                 0|                0|\n",
      "|    max|              304.5|                  313.8|                  2886|             76.6|               253|                1|\n",
      "+-------+-------------------+-----------------------+----------------------+-----------------+------------------+-----------------+\n",
      "\n"
     ]
    }
   ],
   "source": [
    "df.select(\"Air temperature [K]\", \"Process temperature [K]\",\"Rotational speed [rpm]\",\"Torque [Nm]\",\"Tool wear [min]\",\"Machine failure\").describe().show()"
   ]
  },
  {
   "cell_type": "code",
   "execution_count": 14,
   "metadata": {},
   "outputs": [
    {
     "data": {
      "text/plain": [
       "['UDI',\n",
       " 'Product ID',\n",
       " 'Type',\n",
       " 'Air temperature [K]',\n",
       " 'Process temperature [K]',\n",
       " 'Rotational speed [rpm]',\n",
       " 'Torque [Nm]',\n",
       " 'Tool wear [min]',\n",
       " 'Machine failure',\n",
       " 'TWF',\n",
       " 'HDF',\n",
       " 'PWF',\n",
       " 'OSF',\n",
       " 'RNF']"
      ]
     },
     "execution_count": 14,
     "metadata": {},
     "output_type": "execute_result"
    }
   ],
   "source": [
    "df.columns"
   ]
  },
  {
   "cell_type": "code",
   "execution_count": 15,
   "metadata": {},
   "outputs": [
    {
     "data": {
      "text/plain": [
       "DataFrame[Air temperature [K]_Process temperature [K]: string, 305.7: bigint, 305.8: bigint, 305.9: bigint, 306.0: bigint, 306.1: bigint, 306.2: bigint, 306.3: bigint, 306.4: bigint, 306.5: bigint, 306.6: bigint, 306.7: bigint, 306.8: bigint, 306.9: bigint, 307.0: bigint, 307.1: bigint, 307.2: bigint, 307.3: bigint, 307.4: bigint, 307.5: bigint, 307.6: bigint, 307.7: bigint, 307.8: bigint, 307.9: bigint, 308.0: bigint, 308.1: bigint, 308.2: bigint, 308.3: bigint, 308.4: bigint, 308.5: bigint, 308.6: bigint, 308.7: bigint, 308.8: bigint, 308.9: bigint, 309.0: bigint, 309.1: bigint, 309.2: bigint, 309.3: bigint, 309.4: bigint, 309.5: bigint, 309.6: bigint, 309.7: bigint, 309.8: bigint, 309.9: bigint, 310.0: bigint, 310.1: bigint, 310.2: bigint, 310.3: bigint, 310.4: bigint, 310.5: bigint, 310.6: bigint, 310.7: bigint, 310.8: bigint, 310.9: bigint, 311.0: bigint, 311.1: bigint, 311.2: bigint, 311.3: bigint, 311.4: bigint, 311.5: bigint, 311.6: bigint, 311.7: bigint, 311.8: bigint, 311.9: bigint, 312.0: bigint, 312.1: bigint, 312.2: bigint, 312.3: bigint, 312.4: bigint, 312.5: bigint, 312.6: bigint, 312.7: bigint, 312.8: bigint, 312.9: bigint, 313.0: bigint, 313.1: bigint, 313.2: bigint, 313.3: bigint, 313.4: bigint, 313.5: bigint, 313.6: bigint, 313.7: bigint, 313.8: bigint, null: bigint]"
      ]
     },
     "execution_count": 15,
     "metadata": {},
     "output_type": "execute_result"
    }
   ],
   "source": [
    "# create frequency table \n",
    "df.crosstab('Air temperature [K]', 'Process temperature [K]')"
   ]
  },
  {
   "cell_type": "code",
   "execution_count": 16,
   "metadata": {},
   "outputs": [
    {
     "data": {
      "text/plain": [
       "-0.019612534319816525"
      ]
     },
     "execution_count": 16,
     "metadata": {},
     "output_type": "execute_result"
    }
   ],
   "source": [
    "# see relation between two columns\n",
    "df.corr('Air temperature [K]', 'Process temperature [K]')"
   ]
  },
  {
   "cell_type": "code",
   "execution_count": 17,
   "metadata": {},
   "outputs": [
    {
     "data": {
      "text/plain": [
       "-0.23780629526895056"
      ]
     },
     "execution_count": 17,
     "metadata": {},
     "output_type": "execute_result"
    }
   ],
   "source": [
    "df.corr('Rotational speed [rpm]', 'Torque [Nm]')"
   ]
  },
  {
   "cell_type": "code",
   "execution_count": 18,
   "metadata": {},
   "outputs": [
    {
     "data": {
      "text/plain": [
       "DataFrame[Type: string, Air temperature [K]: double, Process temperature [K]: double, Rotational speed [rpm]: int, Torque [Nm]: double, Tool wear [min]: int, Machine failure: int]"
      ]
     },
     "execution_count": 18,
     "metadata": {},
     "output_type": "execute_result"
    }
   ],
   "source": [
    "# Some columns have no impact on output of the model, need to be removed.\n",
    "#cols=['UDI', 'Product ID','TWF', 'HDF', 'PWF', 'OSF','RNF'] columns to be removed.\n",
    "df.drop('UDI', 'Product ID','TWF', 'HDF', 'PWF', 'OSF','RNF')"
   ]
  },
  {
   "cell_type": "code",
   "execution_count": 19,
   "metadata": {},
   "outputs": [
    {
     "data": {
      "text/plain": [
       "['UDI',\n",
       " 'Product ID',\n",
       " 'Type',\n",
       " 'Air temperature [K]',\n",
       " 'Process temperature [K]',\n",
       " 'Rotational speed [rpm]',\n",
       " 'Torque [Nm]',\n",
       " 'Tool wear [min]',\n",
       " 'Machine failure',\n",
       " 'TWF',\n",
       " 'HDF',\n",
       " 'PWF',\n",
       " 'OSF',\n",
       " 'RNF']"
      ]
     },
     "execution_count": 19,
     "metadata": {},
     "output_type": "execute_result"
    }
   ],
   "source": [
    "\n",
    "df.columns"
   ]
  },
  {
   "cell_type": "code",
   "execution_count": 20,
   "metadata": {},
   "outputs": [],
   "source": [
    "df = df.drop('UDI', 'Product ID','TWF', 'HDF', 'PWF', 'OSF','RNF')"
   ]
  },
  {
   "cell_type": "code",
   "execution_count": 21,
   "metadata": {},
   "outputs": [
    {
     "data": {
      "text/plain": [
       "['Type',\n",
       " 'Air temperature [K]',\n",
       " 'Process temperature [K]',\n",
       " 'Rotational speed [rpm]',\n",
       " 'Torque [Nm]',\n",
       " 'Tool wear [min]',\n",
       " 'Machine failure']"
      ]
     },
     "execution_count": 21,
     "metadata": {},
     "output_type": "execute_result"
    }
   ],
   "source": [
    "\n",
    "df.columns"
   ]
  },
  {
   "cell_type": "code",
   "execution_count": 22,
   "metadata": {},
   "outputs": [
    {
     "name": "stdout",
     "output_type": "stream",
     "text": [
      "+---------------+-----+\n",
      "|Machine failure|count|\n",
      "+---------------+-----+\n",
      "|              1|  339|\n",
      "|              0| 9661|\n",
      "+---------------+-----+\n",
      "\n"
     ]
    }
   ],
   "source": [
    "df.groupBy('Machine failure').count().show()\n",
    "# 339 times machine is failed"
   ]
  },
  {
   "cell_type": "code",
   "execution_count": 23,
   "metadata": {},
   "outputs": [],
   "source": [
    "# we have data converted to the pandas since our data set is small we can convert it to pandas.\n",
    "# i want put some graph usin seaborn library.\n",
    "import seaborn as sns\n",
    "import pandas as pd"
   ]
  },
  {
   "cell_type": "code",
   "execution_count": 24,
   "metadata": {},
   "outputs": [
    {
     "data": {
      "text/html": [
       "<div>\n",
       "<style scoped>\n",
       "    .dataframe tbody tr th:only-of-type {\n",
       "        vertical-align: middle;\n",
       "    }\n",
       "\n",
       "    .dataframe tbody tr th {\n",
       "        vertical-align: top;\n",
       "    }\n",
       "\n",
       "    .dataframe thead th {\n",
       "        text-align: right;\n",
       "    }\n",
       "</style>\n",
       "<table border=\"1\" class=\"dataframe\">\n",
       "  <thead>\n",
       "    <tr style=\"text-align: right;\">\n",
       "      <th>col_0</th>\n",
       "      <th>count</th>\n",
       "    </tr>\n",
       "    <tr>\n",
       "      <th>Type</th>\n",
       "      <th></th>\n",
       "    </tr>\n",
       "  </thead>\n",
       "  <tbody>\n",
       "    <tr>\n",
       "      <th>H</th>\n",
       "      <td>985</td>\n",
       "    </tr>\n",
       "    <tr>\n",
       "      <th>L</th>\n",
       "      <td>5879</td>\n",
       "    </tr>\n",
       "    <tr>\n",
       "      <th>M</th>\n",
       "      <td>2921</td>\n",
       "    </tr>\n",
       "  </tbody>\n",
       "</table>\n",
       "</div>"
      ],
      "text/plain": [
       "col_0  count\n",
       "Type        \n",
       "H        985\n",
       "L       5879\n",
       "M       2921"
      ]
     },
     "execution_count": 24,
     "metadata": {},
     "output_type": "execute_result"
    },
    {
     "data": {
      "image/png": "[encoded data removed]",
      "text/plain": [
       "<Figure size 432x288 with 1 Axes>"
      ]
     },
     "metadata": {
      "needs_background": "light"
     },
     "output_type": "display_data"
    }
   ],
   "source": [
    "#counting the number of product according to the product quality.\n",
    "sns.countplot(x='Type',data=pd_df)\n",
    "pd.crosstab(pd_df['Type'], columns='count')"
   ]
  },
  {
   "cell_type": "code",
   "execution_count": 25,
   "metadata": {},
   "outputs": [
    {
     "data": {
      "text/html": [
       "<div>\n",
       "<style scoped>\n",
       "    .dataframe tbody tr th:only-of-type {\n",
       "        vertical-align: middle;\n",
       "    }\n",
       "\n",
       "    .dataframe tbody tr th {\n",
       "        vertical-align: top;\n",
       "    }\n",
       "\n",
       "    .dataframe thead th {\n",
       "        text-align: right;\n",
       "    }\n",
       "</style>\n",
       "<table border=\"1\" class=\"dataframe\">\n",
       "  <thead>\n",
       "    <tr style=\"text-align: right;\">\n",
       "      <th>Machine failure</th>\n",
       "      <th>0</th>\n",
       "      <th>1</th>\n",
       "    </tr>\n",
       "    <tr>\n",
       "      <th>Type</th>\n",
       "      <th></th>\n",
       "      <th></th>\n",
       "    </tr>\n",
       "  </thead>\n",
       "  <tbody>\n",
       "    <tr>\n",
       "      <th>H</th>\n",
       "      <td>964</td>\n",
       "      <td>21</td>\n",
       "    </tr>\n",
       "    <tr>\n",
       "      <th>L</th>\n",
       "      <td>5648</td>\n",
       "      <td>231</td>\n",
       "    </tr>\n",
       "    <tr>\n",
       "      <th>M</th>\n",
       "      <td>2840</td>\n",
       "      <td>81</td>\n",
       "    </tr>\n",
       "  </tbody>\n",
       "</table>\n",
       "</div>"
      ],
      "text/plain": [
       "Machine failure     0    1\n",
       "Type                      \n",
       "H                 964   21\n",
       "L                5648  231\n",
       "M                2840   81"
      ]
     },
     "execution_count": 25,
     "metadata": {},
     "output_type": "execute_result"
    },
    {
     "data": {
      "image/png": "[encoded data removed]",
      "text/plain": [
       "<Figure size 432x288 with 1 Axes>"
      ]
     },
     "metadata": {
      "needs_background": "light"
     },
     "output_type": "display_data"
    }
   ],
   "source": [
    "sns.countplot(x='Type',hue='Machine failure', data=pd_df) # more failure for low quality product.\n",
    "pd.crosstab(pd_df['Type'], columns=pd_df['Machine failure'])"
   ]
  },
  {
   "cell_type": "code",
   "execution_count": 26,
   "metadata": {},
   "outputs": [
    {
     "data": {
      "text/html": [
       "<div>\n",
       "<style scoped>\n",
       "    .dataframe tbody tr th:only-of-type {\n",
       "        vertical-align: middle;\n",
       "    }\n",
       "\n",
       "    .dataframe tbody tr th {\n",
       "        vertical-align: top;\n",
       "    }\n",
       "\n",
       "    .dataframe thead th {\n",
       "        text-align: right;\n",
       "    }\n",
       "</style>\n",
       "<table border=\"1\" class=\"dataframe\">\n",
       "  <thead>\n",
       "    <tr style=\"text-align: right;\">\n",
       "      <th>col_0</th>\n",
       "      <th>count</th>\n",
       "    </tr>\n",
       "    <tr>\n",
       "      <th>Machine failure</th>\n",
       "      <th></th>\n",
       "    </tr>\n",
       "  </thead>\n",
       "  <tbody>\n",
       "    <tr>\n",
       "      <th>0</th>\n",
       "      <td>9661</td>\n",
       "    </tr>\n",
       "    <tr>\n",
       "      <th>1</th>\n",
       "      <td>339</td>\n",
       "    </tr>\n",
       "  </tbody>\n",
       "</table>\n",
       "</div>"
      ],
      "text/plain": [
       "col_0            count\n",
       "Machine failure       \n",
       "0                 9661\n",
       "1                  339"
      ]
     },
     "execution_count": 26,
     "metadata": {},
     "output_type": "execute_result"
    },
    {
     "data": {
      "image/png": "[encoded data removed]",
      "text/plain": [
       "<Figure size 432x288 with 1 Axes>"
      ]
     },
     "metadata": {
      "needs_background": "light"
     },
     "output_type": "display_data"
    }
   ],
   "source": [
    "# counting machine failures. already calculated using group by command.\n",
    "sns.countplot(pd_df['Machine failure'])\n",
    "pd.crosstab(pd_df['Machine failure'], columns='count')"
   ]
  },
  {
   "cell_type": "code",
   "execution_count": 27,
   "metadata": {},
   "outputs": [
    {
     "data": {
      "text/plain": [
       "<matplotlib.axes._subplots.AxesSubplot at 0x1d0469ee850>"
      ]
     },
     "execution_count": 27,
     "metadata": {},
     "output_type": "execute_result"
    },
    {
     "data": {
      "image/png": "[encoded data removed]",
      "text/plain": [
       "<Figure size 432x288 with 1 Axes>"
      ]
     },
     "metadata": {
      "needs_background": "light"
     },
     "output_type": "display_data"
    }
   ],
   "source": [
    "# lets see failure and temperature relation.\n",
    "sns.boxplot(x='Machine failure',y='Air temperature [K]',hue='Type', data=pd_df) # No major impact"
   ]
  },
  {
   "cell_type": "code",
   "execution_count": 28,
   "metadata": {},
   "outputs": [
    {
     "data": {
      "text/plain": [
       "<matplotlib.axes._subplots.AxesSubplot at 0x1d046ab4f40>"
      ]
     },
     "execution_count": 28,
     "metadata": {},
     "output_type": "execute_result"
    },
    {
     "data": {
      "image/png": "[encoded data removed]",
      "text/plain": [
       "<Figure size 432x288 with 1 Axes>"
      ]
     },
     "metadata": {
      "needs_background": "light"
     },
     "output_type": "display_data"
    }
   ],
   "source": [
    "sns.boxplot(x='Machine failure',y='Process temperature [K]',hue='Type', data=pd_df)  # No major impact "
   ]
  },
  {
   "cell_type": "code",
   "execution_count": 29,
   "metadata": {},
   "outputs": [
    {
     "data": {
      "text/plain": [
       "<matplotlib.axes._subplots.AxesSubplot at 0x1d046b6a100>"
      ]
     },
     "execution_count": 29,
     "metadata": {},
     "output_type": "execute_result"
    },
    {
     "data": {
      "image/png": "[encoded data removed]",
      "text/plain": [
       "<Figure size 432x288 with 1 Axes>"
      ]
     },
     "metadata": {
      "needs_background": "light"
     },
     "output_type": "display_data"
    }
   ],
   "source": [
    "# Relation between failure and speed of rotation \n",
    "sns.boxplot(x='Machine failure',y='Rotational speed [rpm]',hue='Type', data=pd_df) \n",
    "# we can see that there more outliers here and speed of rotation is less in failure comapred to non failire."
   ]
  },
  {
   "cell_type": "code",
   "execution_count": 30,
   "metadata": {},
   "outputs": [
    {
     "data": {
      "text/plain": [
       "<matplotlib.axes._subplots.AxesSubplot at 0x1d046ac2610>"
      ]
     },
     "execution_count": 30,
     "metadata": {},
     "output_type": "execute_result"
    },
    {
     "data": {
      "image/png": "[encoded data removed]",
      "text/plain": [
       "<Figure size 432x288 with 1 Axes>"
      ]
     },
     "metadata": {
      "needs_background": "light"
     },
     "output_type": "display_data"
    }
   ],
   "source": [
    "# Relation between machine failiure and torque\n",
    "sns.boxplot(x='Machine failure',y='Torque [Nm]',hue='Type', data=pd_df)# little impact \n",
    "# Torque is same for non-failure and there variation in torque at the time of failure"
   ]
  },
  {
   "cell_type": "code",
   "execution_count": 31,
   "metadata": {},
   "outputs": [
    {
     "data": {
      "text/plain": [
       "<matplotlib.axes._subplots.AxesSubplot at 0x1d046c1c8b0>"
      ]
     },
     "execution_count": 31,
     "metadata": {},
     "output_type": "execute_result"
    },
    {
     "data": {
      "image/png": "[encoded data removed]",
      "text/plain": [
       "<Figure size 432x288 with 1 Axes>"
      ]
     },
     "metadata": {
      "needs_background": "light"
     },
     "output_type": "display_data"
    }
   ],
   "source": [
    "#There are little chances machien may fail beacuse of tool  wear.\n",
    "sns.boxplot(x='Machine failure',y='Tool wear [min]',hue='Type', data=pd_df) # ''"
   ]
  },
  {
   "cell_type": "code",
   "execution_count": 32,
   "metadata": {},
   "outputs": [],
   "source": [
    "df = df.drop('Type')"
   ]
  },
  {
   "cell_type": "code",
   "execution_count": 34,
   "metadata": {},
   "outputs": [
    {
     "name": "stdout",
     "output_type": "stream",
     "text": [
      "root\n",
      " |-- Air temperature [K]: double (nullable = true)\n",
      " |-- Process temperature [K]: double (nullable = true)\n",
      " |-- Rotational speed [rpm]: integer (nullable = true)\n",
      " |-- Torque [Nm]: double (nullable = true)\n",
      " |-- Tool wear [min]: integer (nullable = true)\n",
      " |-- Machine failure: integer (nullable = true)\n",
      "\n"
     ]
    }
   ],
   "source": [
    "df.printSchema()"
   ]
  },
  {
   "cell_type": "code",
   "execution_count": 35,
   "metadata": {},
   "outputs": [
    {
     "name": "stdout",
     "output_type": "stream",
     "text": [
      "Records for Training: 6982\n",
      "Records for Training: 3018\n"
     ]
    }
   ],
   "source": [
    "#copy of dataframe \n",
    "\n",
    "fail_df = df \n",
    "(train_data, test_data) = fail_df.randomSplit([0.7, 0.3], 24) #24 is random_state\n",
    "print(\"Records for Training: \" +str(train_data.count()))\n",
    "print(\"Records for Training: \" +str(test_data.count()))"
   ]
  },
  {
   "cell_type": "code",
   "execution_count": 36,
   "metadata": {},
   "outputs": [],
   "source": [
    "from pyspark.ml import Pipeline\n",
    "from pyspark.ml.feature import OneHotEncoder, StringIndexer, VectorAssembler\n",
    "\n",
    "#catColumns =[\"Type\"]"
   ]
  },
  {
   "cell_type": "code",
   "execution_count": 37,
   "metadata": {},
   "outputs": [],
   "source": [
    "stages = []\n",
    "#for catCol in catColumns:\n",
    "#  stringIndexer = StringIndexer(inputCol=catCol, outputCol=catCol +\"Index\")\n",
    "#  encoder = OneHotEncoder(inputCols=[stringIndexer.getOutputCol()], outputCols=[catCol +\"catVec\"])\n",
    "#  stages +=[stringIndexer, encoder] \n",
    "# string values are converted to One not encoding "
   ]
  },
  {
   "cell_type": "code",
   "execution_count": 38,
   "metadata": {},
   "outputs": [
    {
     "data": {
      "text/plain": [
       "[]"
      ]
     },
     "execution_count": 38,
     "metadata": {},
     "output_type": "execute_result"
    }
   ],
   "source": [
    "stages"
   ]
  },
  {
   "cell_type": "code",
   "execution_count": 39,
   "metadata": {},
   "outputs": [],
   "source": [
    "# making list of numeric columns\n",
    "numColumns = ['Air temperature [K]', 'Process temperature [K]','Rotational speed [rpm]','Torque [Nm]','Tool wear [min]']"
   ]
  },
  {
   "cell_type": "code",
   "execution_count": 40,
   "metadata": {},
   "outputs": [],
   "source": [
    "# impute missing values.\n",
    "from pyspark.ml.feature import Imputer\n",
    "for numCol in numColumns:\n",
    "  imputer = Imputer(inputCol=numCol, outputCol=numCol +\"Index\")\n",
    "  stages+=[imputer]"
   ]
  },
  {
   "cell_type": "code",
   "execution_count": 41,
   "metadata": {},
   "outputs": [
    {
     "data": {
      "text/plain": [
       "[Imputer_66b9ccd74da7,\n",
       " Imputer_a232bfdb75f3,\n",
       " Imputer_83e9712521bb,\n",
       " Imputer_9baf60748c17,\n",
       " Imputer_61e57dd862ac]"
      ]
     },
     "execution_count": 41,
     "metadata": {},
     "output_type": "execute_result"
    }
   ],
   "source": [
    "# see the stages \n",
    "stages"
   ]
  },
  {
   "cell_type": "code",
   "execution_count": 42,
   "metadata": {},
   "outputs": [
    {
     "name": "stdout",
     "output_type": "stream",
     "text": [
      "+-------------------+-----------------------+----------------------+-----------+---------------+---------------+\n",
      "|Air temperature [K]|Process temperature [K]|Rotational speed [rpm]|Torque [Nm]|Tool wear [min]|Machine failure|\n",
      "+-------------------+-----------------------+----------------------+-----------+---------------+---------------+\n",
      "|                264|                    287|                  1033|       1154|           1132|              0|\n",
      "+-------------------+-----------------------+----------------------+-----------+---------------+---------------+\n",
      "\n"
     ]
    }
   ],
   "source": [
    "# lets check the missing values in new DataFrame\n",
    "fail_df.select([count(when(isnan(c) | col(c).isNull(), c)).alias(c) for (c) in df.columns]).show()"
   ]
  },
  {
   "cell_type": "code",
   "execution_count": 43,
   "metadata": {},
   "outputs": [],
   "source": [
    "# put target column in stages\n",
    "label_Idx = StringIndexer(inputCol=\"Machine failure\", outputCol=\"label\")"
   ]
  },
  {
   "cell_type": "code",
   "execution_count": 44,
   "metadata": {},
   "outputs": [],
   "source": [
    "stages += [label_Idx]"
   ]
  },
  {
   "cell_type": "code",
   "execution_count": 45,
   "metadata": {},
   "outputs": [
    {
     "data": {
      "text/plain": [
       "[Imputer_66b9ccd74da7,\n",
       " Imputer_a232bfdb75f3,\n",
       " Imputer_83e9712521bb,\n",
       " Imputer_9baf60748c17,\n",
       " Imputer_61e57dd862ac,\n",
       " StringIndexer_d3807178d9a5]"
      ]
     },
     "execution_count": 45,
     "metadata": {},
     "output_type": "execute_result"
    }
   ],
   "source": [
    "stages"
   ]
  },
  {
   "cell_type": "code",
   "execution_count": 46,
   "metadata": {},
   "outputs": [],
   "source": [
    "# just to see how data gets fit and transform  \n",
    "temp = label_Idx.fit(train_data).transform(train_data)"
   ]
  },
  {
   "cell_type": "code",
   "execution_count": 47,
   "metadata": {},
   "outputs": [
    {
     "name": "stdout",
     "output_type": "stream",
     "text": [
      "+-------------------+-----------------------+----------------------+-----------+---------------+---------------+-----+\n",
      "|Air temperature [K]|Process temperature [K]|Rotational speed [rpm]|Torque [Nm]|Tool wear [min]|Machine failure|label|\n",
      "+-------------------+-----------------------+----------------------+-----------+---------------+---------------+-----+\n",
      "|               null|                   null|                  1445|       42.9|             55|              0|  0.0|\n",
      "+-------------------+-----------------------+----------------------+-----------+---------------+---------------+-----+\n",
      "only showing top 1 row\n",
      "\n"
     ]
    }
   ],
   "source": [
    "temp.show(1)"
   ]
  },
  {
   "cell_type": "code",
   "execution_count": 48,
   "metadata": {},
   "outputs": [
    {
     "ename": "NameError",
     "evalue": "name 'catColumns' is not defined",
     "output_type": "error",
     "traceback": [
      "\u001b[1;31m---------------------------------------------------------------------------\u001b[0m",
      "\u001b[1;31mNameError\u001b[0m                                 Traceback (most recent call last)",
      "\u001b[1;32m<ipython-input-48-064ecd159ea7>\u001b[0m in \u001b[0;36m<module>\u001b[1;34m\u001b[0m\n\u001b[0;32m      1\u001b[0m \u001b[1;31m# creating vector assembler, combine categorical columns and numeric columns\u001b[0m\u001b[1;33m\u001b[0m\u001b[1;33m\u001b[0m\u001b[1;33m\u001b[0m\u001b[0m\n\u001b[1;32m----> 2\u001b[1;33m \u001b[0massembleInputs\u001b[0m \u001b[1;33m=\u001b[0m \u001b[0massemblerInputs\u001b[0m \u001b[1;33m=\u001b[0m \u001b[1;33m[\u001b[0m\u001b[0mc\u001b[0m \u001b[1;33m+\u001b[0m \u001b[1;34m\"catVec\"\u001b[0m \u001b[1;32mfor\u001b[0m \u001b[0mc\u001b[0m \u001b[1;32min\u001b[0m \u001b[0mcatColumns\u001b[0m\u001b[1;33m]\u001b[0m \u001b[1;33m+\u001b[0m \u001b[1;33m[\u001b[0m\u001b[0me\u001b[0m \u001b[1;33m+\u001b[0m \u001b[1;34m\"Index\"\u001b[0m \u001b[1;32mfor\u001b[0m \u001b[0me\u001b[0m \u001b[1;32min\u001b[0m \u001b[0mnumColumns\u001b[0m\u001b[1;33m]\u001b[0m\u001b[1;33m\u001b[0m\u001b[1;33m\u001b[0m\u001b[0m\n\u001b[0m\u001b[0;32m      3\u001b[0m \u001b[0massembler\u001b[0m \u001b[1;33m=\u001b[0m \u001b[0mVectorAssembler\u001b[0m\u001b[1;33m(\u001b[0m\u001b[0minputCols\u001b[0m \u001b[1;33m=\u001b[0m \u001b[0massembleInputs\u001b[0m\u001b[1;33m,\u001b[0m \u001b[0moutputCol\u001b[0m\u001b[1;33m=\u001b[0m\u001b[1;34m\"features\"\u001b[0m\u001b[1;33m)\u001b[0m\u001b[1;33m\u001b[0m\u001b[1;33m\u001b[0m\u001b[0m\n\u001b[0;32m      4\u001b[0m \u001b[0mstages\u001b[0m \u001b[1;33m+=\u001b[0m \u001b[1;33m[\u001b[0m\u001b[0massembler\u001b[0m\u001b[1;33m]\u001b[0m\u001b[1;33m\u001b[0m\u001b[1;33m\u001b[0m\u001b[0m\n",
      "\u001b[1;31mNameError\u001b[0m: name 'catColumns' is not defined"
     ]
    }
   ],
   "source": [
    "# creating vector assembler, combine categorical columns and numeric columns\n",
    "#assembleInputs = assemblerInputs = [c + \"catVec\" for c in catColumns] + [e + \"Index\" for e in numColumns]\n",
    "#assembler = VectorAssembler(inputCols = assembleInputs, outputCol=\"features\")\n",
    "#stages += [assembler]"
   ]
  },
  {
   "cell_type": "code",
   "execution_count": 49,
   "metadata": {},
   "outputs": [],
   "source": [
    "# creating vector assembler, combine categorical columns and numeric columns\n",
    "assembleInputs = assemblerInputs =  [e + \"Index\" for e in numColumns]\n",
    "assembler = VectorAssembler(inputCols = assembleInputs, outputCol=\"features\")\n",
    "stages += [assembler]"
   ]
  },
  {
   "cell_type": "code",
   "execution_count": 50,
   "metadata": {},
   "outputs": [
    {
     "data": {
      "text/plain": [
       "[Imputer_66b9ccd74da7,\n",
       " Imputer_a232bfdb75f3,\n",
       " Imputer_83e9712521bb,\n",
       " Imputer_9baf60748c17,\n",
       " Imputer_61e57dd862ac,\n",
       " StringIndexer_d3807178d9a5,\n",
       " VectorAssembler_bf5611d1d8fc]"
      ]
     },
     "execution_count": 50,
     "metadata": {},
     "output_type": "execute_result"
    }
   ],
   "source": [
    "stages"
   ]
  },
  {
   "cell_type": "code",
   "execution_count": 51,
   "metadata": {},
   "outputs": [],
   "source": [
    "# Now create pipeline\n",
    "pipeline = Pipeline().setStages(stages)\n",
    "pipelineModel = pipeline.fit(train_data)"
   ]
  },
  {
   "cell_type": "code",
   "execution_count": 52,
   "metadata": {},
   "outputs": [],
   "source": [
    "#need to transform the training and testing data. train preperation data and test preperation data\n",
    "trainprepDF = pipelineModel.transform(train_data)\n",
    "testprepDF = pipelineModel.transform(test_data)"
   ]
  },
  {
   "cell_type": "code",
   "execution_count": 53,
   "metadata": {},
   "outputs": [
    {
     "data": {
      "text/plain": [
       "[Row(Air temperature [K]=None, Process temperature [K]=None, Rotational speed [rpm]=1445, Torque [Nm]=42.9, Tool wear [min]=55, Machine failure=0, Air temperature [K]Index=300.0250147318775, Process temperature [K]Index=309.9899335793359, Rotational speed [rpm]Index=1445, Torque [Nm]Index=42.9, Tool wear [min]Index=55, label=0.0, features=DenseVector([300.025, 309.9899, 1445.0, 42.9, 55.0]))]"
      ]
     },
     "execution_count": 53,
     "metadata": {},
     "output_type": "execute_result"
    }
   ],
   "source": [
    "# to see how does dataset look like\n",
    "trainprepDF.head(1)"
   ]
  },
  {
   "cell_type": "code",
   "execution_count": 54,
   "metadata": {},
   "outputs": [
    {
     "name": "stdout",
     "output_type": "stream",
     "text": [
      "+---------------------------+\n",
      "|Rotational speed [rpm]Index|\n",
      "+---------------------------+\n",
      "|                       1445|\n",
      "|                       1471|\n",
      "|                       1496|\n",
      "|                       1526|\n",
      "|                       1715|\n",
      "|                       1855|\n",
      "|                       1351|\n",
      "|                       1392|\n",
      "|                       1429|\n",
      "|                       1444|\n",
      "|                       1456|\n",
      "|                       1518|\n",
      "|                       1668|\n",
      "|                       1668|\n",
      "|                       1412|\n",
      "|                       1420|\n",
      "|                       1514|\n",
      "|                       1516|\n",
      "|                       1555|\n",
      "|                       1859|\n",
      "+---------------------------+\n",
      "only showing top 20 rows\n",
      "\n"
     ]
    }
   ],
   "source": [
    "trainprepDF.select(\"Rotational speed [rpm]Index\").show()"
   ]
  },
  {
   "cell_type": "code",
   "execution_count": 55,
   "metadata": {},
   "outputs": [],
   "source": [
    "#create initial LogisticRegression model\n",
    "from pyspark.ml.classification import LogisticRegression\n",
    "\n",
    "lr = LogisticRegression(labelCol = \"label\", featuresCol = \"features\", maxIter=10)\n",
    "\n",
    "#Train model with training data.\n"
   ]
  },
  {
   "cell_type": "code",
   "execution_count": 56,
   "metadata": {},
   "outputs": [],
   "source": [
    "lrModel = lr.fit(trainprepDF)"
   ]
  },
  {
   "cell_type": "code",
   "execution_count": 57,
   "metadata": {},
   "outputs": [
    {
     "name": "stdout",
     "output_type": "stream",
     "text": [
      "Coefficients: [0.005952428690862955,-0.005332066030133874,-0.00011021224581008065,0.00576127208087627,0.0005771841956402325]\n",
      "Intercept: -3.4302472844584666\n"
     ]
    }
   ],
   "source": [
    "print(\"Coefficients: \" +str(lrModel.coefficients))\n",
    "print(\"Intercept: \" +str(lrModel.intercept))"
   ]
  },
  {
   "cell_type": "code",
   "execution_count": 59,
   "metadata": {},
   "outputs": [],
   "source": [
    "summary=lrModel.summary"
   ]
  },
  {
   "cell_type": "code",
   "execution_count": 60,
   "metadata": {},
   "outputs": [
    {
     "name": "stdout",
     "output_type": "stream",
     "text": [
      "Accuracy: 0.9686336293325695\n",
      "FPR: 0.9686336293325695\n",
      "TPR: 0.9686336293325695\n",
      "F-measure: 0.9532003252348007\n",
      "Precision: 0.9382511078739856\n",
      "Recall: 0.9686336293325695\n",
      "AreaUnderROC: 0.7877978282313717\n"
     ]
    }
   ],
   "source": [
    "accuracy = summary.accuracy\n",
    "falsePositiveRate = summary.weightedFalsePositiveRate\n",
    "truePositiveRate = summary.weightedTruePositiveRate\n",
    "fMeasure = summary.weightedFMeasure()\n",
    "precision = summary.weightedPrecision\n",
    "recall = summary.weightedRecall\n",
    "print(\"Accuracy: %s\\nFPR: %s\\nTPR: %s\\nF-measure: %s\\nPrecision: %s\\nRecall: %s\\nAreaUnderROC: %s\" %(accuracy, falsePositiveRate, truePositiveRate, fMeasure, precision, recall, summary.areaUnderROC))"
   ]
  },
  {
   "cell_type": "code",
   "execution_count": 61,
   "metadata": {},
   "outputs": [
    {
     "data": {
      "text/plain": [
       "LogisticRegressionModel: uid=LogisticRegression_775ce632377e, numClasses=2, numFeatures=5"
      ]
     },
     "metadata": {},
     "output_type": "display_data"
    },
    {
     "data": {
      "text/plain": [
       "DataFrame[Air temperature [K]: double, Process temperature [K]: double, Rotational speed [rpm]: int, Torque [Nm]: double, Tool wear [min]: int, Machine failure: int, Air temperature [K]Index: double, Process temperature [K]Index: double, Rotational speed [rpm]Index: int, Torque [Nm]Index: double, Tool wear [min]Index: int, label: double, features: vector]"
      ]
     },
     "metadata": {},
     "output_type": "display_data"
    },
    {
     "data": {
      "text/plain": [
       "'ROC'"
      ]
     },
     "metadata": {},
     "output_type": "display_data"
    }
   ],
   "source": [
    "display(lrModel, trainprepDF, \"ROC\")"
   ]
  },
  {
   "cell_type": "code",
   "execution_count": 62,
   "metadata": {},
   "outputs": [
    {
     "data": {
      "text/plain": [
       "LogisticRegressionModel: uid=LogisticRegression_775ce632377e, numClasses=2, numFeatures=5"
      ]
     },
     "metadata": {},
     "output_type": "display_data"
    },
    {
     "data": {
      "text/plain": [
       "DataFrame[Air temperature [K]: double, Process temperature [K]: double, Rotational speed [rpm]: int, Torque [Nm]: double, Tool wear [min]: int, Machine failure: int, Air temperature [K]Index: double, Process temperature [K]Index: double, Rotational speed [rpm]Index: int, Torque [Nm]Index: double, Tool wear [min]Index: int, label: double, features: vector]"
      ]
     },
     "metadata": {},
     "output_type": "display_data"
    },
    {
     "data": {
      "text/plain": [
       "'fittedVsResiduals'"
      ]
     },
     "metadata": {},
     "output_type": "display_data"
    }
   ],
   "source": [
    "display(lrModel, trainprepDF, \"fittedVsResiduals\") "
   ]
  },
  {
   "cell_type": "code",
   "execution_count": 63,
   "metadata": {},
   "outputs": [
    {
     "name": "stdout",
     "output_type": "stream",
     "text": [
      "areaUnderROC = 0.5\n"
     ]
    },
    {
     "data": {
      "text/plain": [
       "'areaUnderROC'"
      ]
     },
     "execution_count": 63,
     "metadata": {},
     "output_type": "execute_result"
    }
   ],
   "source": [
    "from pyspark.ml.evaluation import BinaryClassificationEvaluator\n",
    "predictions = lrModel.transform(testprepDF)\n",
    "evaluatorLR = BinaryClassificationEvaluator(rawPredictionCol = \"prediction\")\n",
    "area_under_curve = evaluatorLR.evaluate(predictions)\n",
    "\n",
    "#default evaluation is areaUnderROC\n",
    "print(\"areaUnderROC = %g\" % area_under_curve)\n",
    "\n",
    "evaluatorLR.getMetricName()"
   ]
  },
  {
   "cell_type": "code",
   "execution_count": 64,
   "metadata": {},
   "outputs": [
    {
     "ename": "NameError",
     "evalue": "name 'sc' is not defined",
     "output_type": "error",
     "traceback": [
      "\u001b[1;31m---------------------------------------------------------------------------\u001b[0m",
      "\u001b[1;31mNameError\u001b[0m                                 Traceback (most recent call last)",
      "\u001b[1;32m<ipython-input-64-4c5295efa9ef>\u001b[0m in \u001b[0;36m<module>\u001b[1;34m\u001b[0m\n\u001b[0;32m      5\u001b[0m \u001b[0mresults_collect\u001b[0m \u001b[1;33m=\u001b[0m \u001b[0mresults\u001b[0m\u001b[1;33m.\u001b[0m\u001b[0mcollect\u001b[0m\u001b[1;33m(\u001b[0m\u001b[1;33m)\u001b[0m\u001b[1;33m\u001b[0m\u001b[1;33m\u001b[0m\u001b[0m\n\u001b[0;32m      6\u001b[0m \u001b[0mresults_list\u001b[0m \u001b[1;33m=\u001b[0m \u001b[1;33m[\u001b[0m\u001b[1;33m(\u001b[0m\u001b[0mfloat\u001b[0m\u001b[1;33m(\u001b[0m\u001b[0mi\u001b[0m\u001b[1;33m[\u001b[0m\u001b[1;36m0\u001b[0m\u001b[1;33m]\u001b[0m\u001b[1;33m)\u001b[0m\u001b[1;33m,\u001b[0m \u001b[0mfloat\u001b[0m\u001b[1;33m(\u001b[0m\u001b[0mi\u001b[0m\u001b[1;33m[\u001b[0m\u001b[1;36m1\u001b[0m\u001b[1;33m]\u001b[0m\u001b[1;33m)\u001b[0m\u001b[1;33m)\u001b[0m \u001b[1;32mfor\u001b[0m \u001b[0mi\u001b[0m \u001b[1;32min\u001b[0m \u001b[0mresults_collect\u001b[0m\u001b[1;33m]\u001b[0m\u001b[1;33m\u001b[0m\u001b[1;33m\u001b[0m\u001b[0m\n\u001b[1;32m----> 7\u001b[1;33m \u001b[0mpredictionAndLabels\u001b[0m \u001b[1;33m=\u001b[0m \u001b[0msc\u001b[0m\u001b[1;33m.\u001b[0m\u001b[0mparallelize\u001b[0m\u001b[1;33m(\u001b[0m\u001b[0mresults_list\u001b[0m\u001b[1;33m)\u001b[0m\u001b[1;33m\u001b[0m\u001b[1;33m\u001b[0m\u001b[0m\n\u001b[0m\u001b[0;32m      8\u001b[0m \u001b[1;33m\u001b[0m\u001b[0m\n\u001b[0;32m      9\u001b[0m \u001b[0mmetrics\u001b[0m \u001b[1;33m=\u001b[0m \u001b[0mBinaryClassificationMetrics\u001b[0m\u001b[1;33m(\u001b[0m\u001b[0mpredictionAndLabels\u001b[0m\u001b[1;33m)\u001b[0m\u001b[1;33m\u001b[0m\u001b[1;33m\u001b[0m\u001b[0m\n",
      "\u001b[1;31mNameError\u001b[0m: name 'sc' is not defined"
     ]
    }
   ],
   "source": [
    "from pyspark.mllib.evaluation import BinaryClassificationMetrics\n",
    "results = predictions.select(['prediction', 'label'])\n",
    "\n",
    "##prepare score-label set\n",
    "results_collect = results.collect()\n",
    "results_list = [(float(i[0]), float(i[1])) for i in results_collect]\n",
    "predictionAndLabels = sc.parallelize(results_list)\n",
    "\n",
    "metrics = BinaryClassificationMetrics(predictionAndLabels)\n",
    "\n",
    "#Area under Precision-recall curve\n",
    "\n",
    "print(\"Area under PR = %s\" % metrics.areaUnderPR)\n",
    "\n",
    "#Area Under ROC curve\n",
    "print(\"Area under ROC = %s\" % metrics.areaUnderROC)\n",
    "\n",
    "predictions.show(1)"
   ]
  },
  {
   "cell_type": "code",
   "execution_count": 65,
   "metadata": {},
   "outputs": [
    {
     "name": "stdout",
     "output_type": "stream",
     "text": [
      "correct: 2898\n",
      "Wrong: 120\n",
      "tp: 0\n",
      "fp: 0\n",
      "fn: 120\n",
      "tn: 2898\n",
      "Accuracy: 0.9602385685884692\n",
      "Precision: 0.9382511078739856\n",
      "Recall: 0.0\n"
     ]
    }
   ],
   "source": [
    "count = predictions.count()\n",
    "correct = results.filter(results.prediction == results.label).count()\n",
    "wrong = results.filter(results.prediction != results.label).count()\n",
    "tp = results.filter(results.prediction == 1.0).filter(results.prediction == results.label).count()\n",
    "fp = results.filter(results.prediction == 1.0).filter(results.prediction != results.label).count()\n",
    "fn = results.filter(results.prediction == 0.0).filter(results.prediction != results.label).count()\n",
    "tn = results.filter(results.prediction == 0.0).filter(results.prediction == results.label).count()\n",
    "\n",
    "accuracy = (tp+tn)/count\n",
    "\n",
    "#precision = tp/(tp+fp)\n",
    "\n",
    "recall = tp/(tp+fn)\n",
    "\n",
    "print(\"correct: %s\\nWrong: %s\\ntp: %s\\nfp: %s\\nfn: %s\\ntn: %s\\nAccuracy: %s\\nPrecision: %s\\nRecall: %s\" %(correct, wrong, tp, fp, fn, tn, accuracy, precision, recall))"
   ]
  },
  {
   "cell_type": "code",
   "execution_count": 66,
   "metadata": {},
   "outputs": [],
   "source": [
    "from pyspark.ml.tuning import ParamGridBuilder, CrossValidator\n",
    "\n",
    "# Create ParamGrid for Cross Validation\n",
    "paramGrid = (ParamGridBuilder()\n",
    "            .addGrid(lr.regParam, [0.01, 0.5,1.0])\n",
    "             .addGrid(lr.elasticNetParam, [0.0,0.5,1.0])\n",
    "             .addGrid(lr.maxIter, [5,10,20])\n",
    "             .build())"
   ]
  },
  {
   "cell_type": "code",
   "execution_count": 67,
   "metadata": {},
   "outputs": [],
   "source": [
    "cv = CrossValidator(estimator=lr, estimatorParamMaps=paramGrid, evaluator=evaluatorLR, numFolds=5)\n",
    "\n",
    "#Run cross validiations\n",
    "cvModel = cv.fit(trainprepDF)"
   ]
  },
  {
   "cell_type": "code",
   "execution_count": 68,
   "metadata": {},
   "outputs": [],
   "source": [
    "predictions = cvModel.bestModel.transform(testprepDF)"
   ]
  },
  {
   "cell_type": "code",
   "execution_count": 69,
   "metadata": {},
   "outputs": [
    {
     "data": {
      "text/plain": [
       "0.5"
      ]
     },
     "execution_count": 69,
     "metadata": {},
     "output_type": "execute_result"
    }
   ],
   "source": [
    "evaluatorLR.evaluate(predictions)"
   ]
  },
  {
   "cell_type": "code",
   "execution_count": 70,
   "metadata": {},
   "outputs": [
    {
     "name": "stdout",
     "output_type": "stream",
     "text": [
      "correct: 2898\n",
      "Wrong: 120\n",
      "tp: 0\n",
      "fp: 0\n",
      "fn: 120\n",
      "tn: 2898\n",
      "Accuracy: 0.9602385685884692\n",
      "Precision: 0.9382511078739856\n",
      "Recall: 0.0\n"
     ]
    }
   ],
   "source": [
    "results = predictions.select(['prediction', 'label'])\n",
    "\n",
    "count=predictions.count()\n",
    "correct = results.filter(results.prediction == results.label).count()\n",
    "wrong = results.filter(results.prediction != results.label).count()\n",
    "tp = results.filter(results.prediction == 1.0).filter(results.prediction == results.label).count()\n",
    "fp = results.filter(results.prediction == 1.0).filter(results.prediction != results.label).count()\n",
    "fn = results.filter(results.prediction == 0.0).filter(results.prediction != results.label).count()\n",
    "tn = results.filter(results.prediction == 0.0).filter(results.prediction == results.label).count()\n",
    "accuracy = (tp+tn)/count\n",
    "\n",
    "#precision = tp/(tp+fp)\n",
    "\n",
    "print(\"correct: %s\\nWrong: %s\\ntp: %s\\nfp: %s\\nfn: %s\\ntn: %s\\nAccuracy: %s\\nPrecision: %s\\nRecall: %s\" %(correct, wrong, tp, fp, fn, tn, accuracy, precision, recall))"
   ]
  },
  {
   "cell_type": "code",
   "execution_count": 71,
   "metadata": {},
   "outputs": [
    {
     "data": {
      "text/plain": [
       "\"estimator: estimator to be cross-validated (current: LogisticRegression_775ce632377e)\\nestimatorParamMaps: estimator param maps (current: [{Param(parent='LogisticRegression_775ce632377e', name='regParam', doc='regularization parameter (>= 0).'): 0.01, Param(parent='LogisticRegression_775ce632377e', name='elasticNetParam', doc='the ElasticNet mixing parameter, in range [0, 1]. For alpha = 0, the penalty is an L2 penalty. For alpha = 1, it is an L1 penalty.'): 0.0, Param(parent='LogisticRegression_775ce632377e', name='maxIter', doc='max number of iterations (>= 0).'): 5}, {Param(parent='LogisticRegression_775ce632377e', name='regParam', doc='regularization parameter (>= 0).'): 0.01, Param(parent='LogisticRegression_775ce632377e', name='elasticNetParam', doc='the ElasticNet mixing parameter, in range [0, 1]. For alpha = 0, the penalty is an L2 penalty. For alpha = 1, it is an L1 penalty.'): 0.0, Param(parent='LogisticRegression_775ce632377e', name='maxIter', doc='max number of iterations (>= 0).'): 10}, {Param(parent='LogisticRegression_775ce632377e', name='regParam', doc='regularization parameter (>= 0).'): 0.01, Param(parent='LogisticRegression_775ce632377e', name='elasticNetParam', doc='the ElasticNet mixing parameter, in range [0, 1]. For alpha = 0, the penalty is an L2 penalty. For alpha = 1, it is an L1 penalty.'): 0.0, Param(parent='LogisticRegression_775ce632377e', name='maxIter', doc='max number of iterations (>= 0).'): 20}, {Param(parent='LogisticRegression_775ce632377e', name='regParam', doc='regularization parameter (>= 0).'): 0.01, Param(parent='LogisticRegression_775ce632377e', name='elasticNetParam', doc='the ElasticNet mixing parameter, in range [0, 1]. For alpha = 0, the penalty is an L2 penalty. For alpha = 1, it is an L1 penalty.'): 0.5, Param(parent='LogisticRegression_775ce632377e', name='maxIter', doc='max number of iterations (>= 0).'): 5}, {Param(parent='LogisticRegression_775ce632377e', name='regParam', doc='regularization parameter (>= 0).'): 0.01, Param(parent='LogisticRegression_775ce632377e', name='elasticNetParam', doc='the ElasticNet mixing parameter, in range [0, 1]. For alpha = 0, the penalty is an L2 penalty. For alpha = 1, it is an L1 penalty.'): 0.5, Param(parent='LogisticRegression_775ce632377e', name='maxIter', doc='max number of iterations (>= 0).'): 10}, {Param(parent='LogisticRegression_775ce632377e', name='regParam', doc='regularization parameter (>= 0).'): 0.01, Param(parent='LogisticRegression_775ce632377e', name='elasticNetParam', doc='the ElasticNet mixing parameter, in range [0, 1]. For alpha = 0, the penalty is an L2 penalty. For alpha = 1, it is an L1 penalty.'): 0.5, Param(parent='LogisticRegression_775ce632377e', name='maxIter', doc='max number of iterations (>= 0).'): 20}, {Param(parent='LogisticRegression_775ce632377e', name='regParam', doc='regularization parameter (>= 0).'): 0.01, Param(parent='LogisticRegression_775ce632377e', name='elasticNetParam', doc='the ElasticNet mixing parameter, in range [0, 1]. For alpha = 0, the penalty is an L2 penalty. For alpha = 1, it is an L1 penalty.'): 1.0, Param(parent='LogisticRegression_775ce632377e', name='maxIter', doc='max number of iterations (>= 0).'): 5}, {Param(parent='LogisticRegression_775ce632377e', name='regParam', doc='regularization parameter (>= 0).'): 0.01, Param(parent='LogisticRegression_775ce632377e', name='elasticNetParam', doc='the ElasticNet mixing parameter, in range [0, 1]. For alpha = 0, the penalty is an L2 penalty. For alpha = 1, it is an L1 penalty.'): 1.0, Param(parent='LogisticRegression_775ce632377e', name='maxIter', doc='max number of iterations (>= 0).'): 10}, {Param(parent='LogisticRegression_775ce632377e', name='regParam', doc='regularization parameter (>= 0).'): 0.01, Param(parent='LogisticRegression_775ce632377e', name='elasticNetParam', doc='the ElasticNet mixing parameter, in range [0, 1]. For alpha = 0, the penalty is an L2 penalty. For alpha = 1, it is an L1 penalty.'): 1.0, Param(parent='LogisticRegression_775ce632377e', name='maxIter', doc='max number of iterations (>= 0).'): 20}, {Param(parent='LogisticRegression_775ce632377e', name='regParam', doc='regularization parameter (>= 0).'): 0.5, Param(parent='LogisticRegression_775ce632377e', name='elasticNetParam', doc='the ElasticNet mixing parameter, in range [0, 1]. For alpha = 0, the penalty is an L2 penalty. For alpha = 1, it is an L1 penalty.'): 0.0, Param(parent='LogisticRegression_775ce632377e', name='maxIter', doc='max number of iterations (>= 0).'): 5}, {Param(parent='LogisticRegression_775ce632377e', name='regParam', doc='regularization parameter (>= 0).'): 0.5, Param(parent='LogisticRegression_775ce632377e', name='elasticNetParam', doc='the ElasticNet mixing parameter, in range [0, 1]. For alpha = 0, the penalty is an L2 penalty. For alpha = 1, it is an L1 penalty.'): 0.0, Param(parent='LogisticRegression_775ce632377e', name='maxIter', doc='max number of iterations (>= 0).'): 10}, {Param(parent='LogisticRegression_775ce632377e', name='regParam', doc='regularization parameter (>= 0).'): 0.5, Param(parent='LogisticRegression_775ce632377e', name='elasticNetParam', doc='the ElasticNet mixing parameter, in range [0, 1]. For alpha = 0, the penalty is an L2 penalty. For alpha = 1, it is an L1 penalty.'): 0.0, Param(parent='LogisticRegression_775ce632377e', name='maxIter', doc='max number of iterations (>= 0).'): 20}, {Param(parent='LogisticRegression_775ce632377e', name='regParam', doc='regularization parameter (>= 0).'): 0.5, Param(parent='LogisticRegression_775ce632377e', name='elasticNetParam', doc='the ElasticNet mixing parameter, in range [0, 1]. For alpha = 0, the penalty is an L2 penalty. For alpha = 1, it is an L1 penalty.'): 0.5, Param(parent='LogisticRegression_775ce632377e', name='maxIter', doc='max number of iterations (>= 0).'): 5}, {Param(parent='LogisticRegression_775ce632377e', name='regParam', doc='regularization parameter (>= 0).'): 0.5, Param(parent='LogisticRegression_775ce632377e', name='elasticNetParam', doc='the ElasticNet mixing parameter, in range [0, 1]. For alpha = 0, the penalty is an L2 penalty. For alpha = 1, it is an L1 penalty.'): 0.5, Param(parent='LogisticRegression_775ce632377e', name='maxIter', doc='max number of iterations (>= 0).'): 10}, {Param(parent='LogisticRegression_775ce632377e', name='regParam', doc='regularization parameter (>= 0).'): 0.5, Param(parent='LogisticRegression_775ce632377e', name='elasticNetParam', doc='the ElasticNet mixing parameter, in range [0, 1]. For alpha = 0, the penalty is an L2 penalty. For alpha = 1, it is an L1 penalty.'): 0.5, Param(parent='LogisticRegression_775ce632377e', name='maxIter', doc='max number of iterations (>= 0).'): 20}, {Param(parent='LogisticRegression_775ce632377e', name='regParam', doc='regularization parameter (>= 0).'): 0.5, Param(parent='LogisticRegression_775ce632377e', name='elasticNetParam', doc='the ElasticNet mixing parameter, in range [0, 1]. For alpha = 0, the penalty is an L2 penalty. For alpha = 1, it is an L1 penalty.'): 1.0, Param(parent='LogisticRegression_775ce632377e', name='maxIter', doc='max number of iterations (>= 0).'): 5}, {Param(parent='LogisticRegression_775ce632377e', name='regParam', doc='regularization parameter (>= 0).'): 0.5, Param(parent='LogisticRegression_775ce632377e', name='elasticNetParam', doc='the ElasticNet mixing parameter, in range [0, 1]. For alpha = 0, the penalty is an L2 penalty. For alpha = 1, it is an L1 penalty.'): 1.0, Param(parent='LogisticRegression_775ce632377e', name='maxIter', doc='max number of iterations (>= 0).'): 10}, {Param(parent='LogisticRegression_775ce632377e', name='regParam', doc='regularization parameter (>= 0).'): 0.5, Param(parent='LogisticRegression_775ce632377e', name='elasticNetParam', doc='the ElasticNet mixing parameter, in range [0, 1]. For alpha = 0, the penalty is an L2 penalty. For alpha = 1, it is an L1 penalty.'): 1.0, Param(parent='LogisticRegression_775ce632377e', name='maxIter', doc='max number of iterations (>= 0).'): 20}, {Param(parent='LogisticRegression_775ce632377e', name='regParam', doc='regularization parameter (>= 0).'): 1.0, Param(parent='LogisticRegression_775ce632377e', name='elasticNetParam', doc='the ElasticNet mixing parameter, in range [0, 1]. For alpha = 0, the penalty is an L2 penalty. For alpha = 1, it is an L1 penalty.'): 0.0, Param(parent='LogisticRegression_775ce632377e', name='maxIter', doc='max number of iterations (>= 0).'): 5}, {Param(parent='LogisticRegression_775ce632377e', name='regParam', doc='regularization parameter (>= 0).'): 1.0, Param(parent='LogisticRegression_775ce632377e', name='elasticNetParam', doc='the ElasticNet mixing parameter, in range [0, 1]. For alpha = 0, the penalty is an L2 penalty. For alpha = 1, it is an L1 penalty.'): 0.0, Param(parent='LogisticRegression_775ce632377e', name='maxIter', doc='max number of iterations (>= 0).'): 10}, {Param(parent='LogisticRegression_775ce632377e', name='regParam', doc='regularization parameter (>= 0).'): 1.0, Param(parent='LogisticRegression_775ce632377e', name='elasticNetParam', doc='the ElasticNet mixing parameter, in range [0, 1]. For alpha = 0, the penalty is an L2 penalty. For alpha = 1, it is an L1 penalty.'): 0.0, Param(parent='LogisticRegression_775ce632377e', name='maxIter', doc='max number of iterations (>= 0).'): 20}, {Param(parent='LogisticRegression_775ce632377e', name='regParam', doc='regularization parameter (>= 0).'): 1.0, Param(parent='LogisticRegression_775ce632377e', name='elasticNetParam', doc='the ElasticNet mixing parameter, in range [0, 1]. For alpha = 0, the penalty is an L2 penalty. For alpha = 1, it is an L1 penalty.'): 0.5, Param(parent='LogisticRegression_775ce632377e', name='maxIter', doc='max number of iterations (>= 0).'): 5}, {Param(parent='LogisticRegression_775ce632377e', name='regParam', doc='regularization parameter (>= 0).'): 1.0, Param(parent='LogisticRegression_775ce632377e', name='elasticNetParam', doc='the ElasticNet mixing parameter, in range [0, 1]. For alpha = 0, the penalty is an L2 penalty. For alpha = 1, it is an L1 penalty.'): 0.5, Param(parent='LogisticRegression_775ce632377e', name='maxIter', doc='max number of iterations (>= 0).'): 10}, {Param(parent='LogisticRegression_775ce632377e', name='regParam', doc='regularization parameter (>= 0).'): 1.0, Param(parent='LogisticRegression_775ce632377e', name='elasticNetParam', doc='the ElasticNet mixing parameter, in range [0, 1]. For alpha = 0, the penalty is an L2 penalty. For alpha = 1, it is an L1 penalty.'): 0.5, Param(parent='LogisticRegression_775ce632377e', name='maxIter', doc='max number of iterations (>= 0).'): 20}, {Param(parent='LogisticRegression_775ce632377e', name='regParam', doc='regularization parameter (>= 0).'): 1.0, Param(parent='LogisticRegression_775ce632377e', name='elasticNetParam', doc='the ElasticNet mixing parameter, in range [0, 1]. For alpha = 0, the penalty is an L2 penalty. For alpha = 1, it is an L1 penalty.'): 1.0, Param(parent='LogisticRegression_775ce632377e', name='maxIter', doc='max number of iterations (>= 0).'): 5}, {Param(parent='LogisticRegression_775ce632377e', name='regParam', doc='regularization parameter (>= 0).'): 1.0, Param(parent='LogisticRegression_775ce632377e', name='elasticNetParam', doc='the ElasticNet mixing parameter, in range [0, 1]. For alpha = 0, the penalty is an L2 penalty. For alpha = 1, it is an L1 penalty.'): 1.0, Param(parent='LogisticRegression_775ce632377e', name='maxIter', doc='max number of iterations (>= 0).'): 10}, {Param(parent='LogisticRegression_775ce632377e', name='regParam', doc='regularization parameter (>= 0).'): 1.0, Param(parent='LogisticRegression_775ce632377e', name='elasticNetParam', doc='the ElasticNet mixing parameter, in range [0, 1]. For alpha = 0, the penalty is an L2 penalty. For alpha = 1, it is an L1 penalty.'): 1.0, Param(parent='LogisticRegression_775ce632377e', name='maxIter', doc='max number of iterations (>= 0).'): 20}])\\nevaluator: evaluator used to select hyper-parameters that maximize the validator metric (current: BinaryClassificationEvaluator_ce065542c332)\\nnumFolds: number of folds for cross validation (default: 3, current: 5)\\nseed: random seed. (default: 4324884343804766467)\""
      ]
     },
     "execution_count": 71,
     "metadata": {},
     "output_type": "execute_result"
    }
   ],
   "source": [
    "cvModel.explainParams()"
   ]
  },
  {
   "cell_type": "code",
   "execution_count": 72,
   "metadata": {},
   "outputs": [],
   "source": [
    "from pyspark.ml.classification import RandomForestClassifier\n",
    "\n",
    "rf = RandomForestClassifier(labelCol=\"label\", featuresCol=\"features\").setImpurity(\"gini\").setMaxDepth(6).setNumTrees(50).setFeatureSubsetStrategy(\"auto\").setSeed(1010)\n",
    "\n",
    "rfModel = rf.fit(trainprepDF)  \n"
   ]
  },
  {
   "cell_type": "code",
   "execution_count": 73,
   "metadata": {},
   "outputs": [],
   "source": [
    "predictions = rfModel.transform(testprepDF)"
   ]
  },
  {
   "cell_type": "code",
   "execution_count": 74,
   "metadata": {},
   "outputs": [
    {
     "name": "stdout",
     "output_type": "stream",
     "text": [
      "correct: 2934\n",
      "Wrong: 84\n",
      "tp: 43\n",
      "fp: 7\n",
      "fn: 77\n",
      "tn: 2891\n",
      "Accuracy: 0.9721669980119284\n",
      "Precision: 0.86\n",
      "Recall: 0.35833333333333334\n"
     ]
    }
   ],
   "source": [
    "results = predictions.select(['prediction', 'label'])\n",
    "\n",
    "count=predictions.count()\n",
    "correct = results.filter(results.prediction == results.label).count()\n",
    "wrong = results.filter(results.prediction != results.label).count()\n",
    "tp = results.filter(results.prediction == 1.0).filter(results.prediction == results.label).count()\n",
    "fp = results.filter(results.prediction == 1.0).filter(results.prediction != results.label).count()\n",
    "fn = results.filter(results.prediction == 0.0).filter(results.prediction != results.label).count()\n",
    "tn = results.filter(results.prediction == 0.0).filter(results.prediction == results.label).count()\n",
    "\n",
    "accuracy = (tp+tn)/count\n",
    "\n",
    "precision = tp/(tp+fp)\n",
    "\n",
    "recall = tp/(tp+fn)\n",
    "\n",
    "print(\"correct: %s\\nWrong: %s\\ntp: %s\\nfp: %s\\nfn: %s\\ntn: %s\\nAccuracy: %s\\nPrecision: %s\\nRecall: %s\" %(correct, wrong, tp, fp, fn, tn, accuracy, precision, recall))\n"
   ]
  },
  {
   "cell_type": "markdown",
   "metadata": {},
   "source": [
    "# End"
   ]
  },
  {
   "cell_type": "code",
   "execution_count": null,
   "metadata": {},
   "outputs": [],
   "source": []
  }
 ],
 "metadata": {
  "kernelspec": {
   "display_name": "Python 3",
   "language": "python",
   "name": "python3"
  },
  "language_info": {
   "codemirror_mode": {
    "name": "ipython",
    "version": 3
   },
   "file_extension": ".py",
   "mimetype": "text/x-python",
   "name": "python",
   "nbconvert_exporter": "python",
   "pygments_lexer": "ipython3",
   "version": "3.8.3"
  }
 },
 "nbformat": 4,
 "nbformat_minor": 4
}
